{
 "cells": [
  {
   "cell_type": "markdown",
   "metadata": {},
   "source": [
    "![logo](../imgs/MLU_Logo.png)\n",
    "\n",
    "---\n",
    "\n",
    "# Train/Deploy/Test a Multiclass Model \n",
    "\n",
    "This exercise is about executing all the steps of the Machine Learning development pipeline, using some features SageMaker offers. We'll use here a public dataset called iris. Iris is a toy dataset and this is a very simple example. The idea here is to focus on the SageMaker features and not on a complex scenario. Let's see how SageMaker can accelerate your work and avoid wasting your time with tasks that aren't related to your business. \n",
    "\n",
    "SageMaker library 2.0+ is required!"
   ]
  },
  {
   "cell_type": "markdown",
   "metadata": {},
   "source": [
    "## Import the Dataset\n",
    "Let's  start by importing the dataset and visualize it!"
   ]
  },
  {
   "cell_type": "code",
   "execution_count": 1,
   "metadata": {
    "scrolled": true
   },
   "outputs": [
    {
     "data": {
      "text/html": [
       "<div>\n",
       "<style scoped>\n",
       "    .dataframe tbody tr th:only-of-type {\n",
       "        vertical-align: middle;\n",
       "    }\n",
       "\n",
       "    .dataframe tbody tr th {\n",
       "        vertical-align: top;\n",
       "    }\n",
       "\n",
       "    .dataframe thead th {\n",
       "        text-align: right;\n",
       "    }\n",
       "</style>\n",
       "<table border=\"1\" class=\"dataframe\">\n",
       "  <thead>\n",
       "    <tr style=\"text-align: right;\">\n",
       "      <th></th>\n",
       "      <th>iris_id</th>\n",
       "      <th>sepal length (cm)</th>\n",
       "      <th>sepal width (cm)</th>\n",
       "      <th>petal length (cm)</th>\n",
       "      <th>petal width (cm)</th>\n",
       "      <th>species</th>\n",
       "    </tr>\n",
       "  </thead>\n",
       "  <tbody>\n",
       "    <tr>\n",
       "      <th>0</th>\n",
       "      <td>0.0</td>\n",
       "      <td>5.1</td>\n",
       "      <td>3.5</td>\n",
       "      <td>1.4</td>\n",
       "      <td>0.2</td>\n",
       "      <td>setosa</td>\n",
       "    </tr>\n",
       "    <tr>\n",
       "      <th>1</th>\n",
       "      <td>0.0</td>\n",
       "      <td>4.9</td>\n",
       "      <td>3.0</td>\n",
       "      <td>1.4</td>\n",
       "      <td>0.2</td>\n",
       "      <td>setosa</td>\n",
       "    </tr>\n",
       "    <tr>\n",
       "      <th>2</th>\n",
       "      <td>0.0</td>\n",
       "      <td>4.7</td>\n",
       "      <td>3.2</td>\n",
       "      <td>1.3</td>\n",
       "      <td>0.2</td>\n",
       "      <td>setosa</td>\n",
       "    </tr>\n",
       "    <tr>\n",
       "      <th>3</th>\n",
       "      <td>0.0</td>\n",
       "      <td>4.6</td>\n",
       "      <td>3.1</td>\n",
       "      <td>1.5</td>\n",
       "      <td>0.2</td>\n",
       "      <td>setosa</td>\n",
       "    </tr>\n",
       "    <tr>\n",
       "      <th>4</th>\n",
       "      <td>0.0</td>\n",
       "      <td>5.0</td>\n",
       "      <td>3.6</td>\n",
       "      <td>1.4</td>\n",
       "      <td>0.2</td>\n",
       "      <td>setosa</td>\n",
       "    </tr>\n",
       "  </tbody>\n",
       "</table>\n",
       "</div>"
      ],
      "text/plain": [
       "   iris_id  sepal length (cm)  sepal width (cm)  petal length (cm)  \\\n",
       "0      0.0                5.1               3.5                1.4   \n",
       "1      0.0                4.9               3.0                1.4   \n",
       "2      0.0                4.7               3.2                1.3   \n",
       "3      0.0                4.6               3.1                1.5   \n",
       "4      0.0                5.0               3.6                1.4   \n",
       "\n",
       "   petal width (cm) species  \n",
       "0               0.2  setosa  \n",
       "1               0.2  setosa  \n",
       "2               0.2  setosa  \n",
       "3               0.2  setosa  \n",
       "4               0.2  setosa  "
      ]
     },
     "execution_count": 1,
     "metadata": {},
     "output_type": "execute_result"
    }
   ],
   "source": [
    "%matplotlib inline\n",
    "\n",
    "import pandas as pd\n",
    "import numpy as np\n",
    "import seaborn as sns\n",
    "import matplotlib.pyplot as plt\n",
    "\n",
    "from sklearn import datasets\n",
    "sns.set(color_codes=True)\n",
    "\n",
    "iris = datasets.load_iris()\n",
    "\n",
    "X=iris.data\n",
    "y=iris.target\n",
    "\n",
    "dataset = np.insert(iris.data, 0, iris.target,axis=1)\n",
    "\n",
    "df = pd.DataFrame(data=dataset, columns=['iris_id'] + iris.feature_names)\n",
    "df['species'] = df['iris_id'].map(lambda x: 'setosa' if x == 0 else 'versicolor' if x == 1 else 'virginica')\n",
    "\n",
    "df.head()"
   ]
  },
  {
   "cell_type": "code",
   "execution_count": 2,
   "metadata": {},
   "outputs": [
    {
     "data": {
      "text/html": [
       "<div>\n",
       "<style scoped>\n",
       "    .dataframe tbody tr th:only-of-type {\n",
       "        vertical-align: middle;\n",
       "    }\n",
       "\n",
       "    .dataframe tbody tr th {\n",
       "        vertical-align: top;\n",
       "    }\n",
       "\n",
       "    .dataframe thead th {\n",
       "        text-align: right;\n",
       "    }\n",
       "</style>\n",
       "<table border=\"1\" class=\"dataframe\">\n",
       "  <thead>\n",
       "    <tr style=\"text-align: right;\">\n",
       "      <th></th>\n",
       "      <th>iris_id</th>\n",
       "      <th>sepal length (cm)</th>\n",
       "      <th>sepal width (cm)</th>\n",
       "      <th>petal length (cm)</th>\n",
       "      <th>petal width (cm)</th>\n",
       "    </tr>\n",
       "  </thead>\n",
       "  <tbody>\n",
       "    <tr>\n",
       "      <th>count</th>\n",
       "      <td>150.000000</td>\n",
       "      <td>150.000000</td>\n",
       "      <td>150.000000</td>\n",
       "      <td>150.000000</td>\n",
       "      <td>150.000000</td>\n",
       "    </tr>\n",
       "    <tr>\n",
       "      <th>mean</th>\n",
       "      <td>1.000000</td>\n",
       "      <td>5.843333</td>\n",
       "      <td>3.057333</td>\n",
       "      <td>3.758000</td>\n",
       "      <td>1.199333</td>\n",
       "    </tr>\n",
       "    <tr>\n",
       "      <th>std</th>\n",
       "      <td>0.819232</td>\n",
       "      <td>0.828066</td>\n",
       "      <td>0.435866</td>\n",
       "      <td>1.765298</td>\n",
       "      <td>0.762238</td>\n",
       "    </tr>\n",
       "    <tr>\n",
       "      <th>min</th>\n",
       "      <td>0.000000</td>\n",
       "      <td>4.300000</td>\n",
       "      <td>2.000000</td>\n",
       "      <td>1.000000</td>\n",
       "      <td>0.100000</td>\n",
       "    </tr>\n",
       "    <tr>\n",
       "      <th>25%</th>\n",
       "      <td>0.000000</td>\n",
       "      <td>5.100000</td>\n",
       "      <td>2.800000</td>\n",
       "      <td>1.600000</td>\n",
       "      <td>0.300000</td>\n",
       "    </tr>\n",
       "    <tr>\n",
       "      <th>50%</th>\n",
       "      <td>1.000000</td>\n",
       "      <td>5.800000</td>\n",
       "      <td>3.000000</td>\n",
       "      <td>4.350000</td>\n",
       "      <td>1.300000</td>\n",
       "    </tr>\n",
       "    <tr>\n",
       "      <th>75%</th>\n",
       "      <td>2.000000</td>\n",
       "      <td>6.400000</td>\n",
       "      <td>3.300000</td>\n",
       "      <td>5.100000</td>\n",
       "      <td>1.800000</td>\n",
       "    </tr>\n",
       "    <tr>\n",
       "      <th>max</th>\n",
       "      <td>2.000000</td>\n",
       "      <td>7.900000</td>\n",
       "      <td>4.400000</td>\n",
       "      <td>6.900000</td>\n",
       "      <td>2.500000</td>\n",
       "    </tr>\n",
       "  </tbody>\n",
       "</table>\n",
       "</div>"
      ],
      "text/plain": [
       "          iris_id  sepal length (cm)  sepal width (cm)  petal length (cm)  \\\n",
       "count  150.000000         150.000000        150.000000         150.000000   \n",
       "mean     1.000000           5.843333          3.057333           3.758000   \n",
       "std      0.819232           0.828066          0.435866           1.765298   \n",
       "min      0.000000           4.300000          2.000000           1.000000   \n",
       "25%      0.000000           5.100000          2.800000           1.600000   \n",
       "50%      1.000000           5.800000          3.000000           4.350000   \n",
       "75%      2.000000           6.400000          3.300000           5.100000   \n",
       "max      2.000000           7.900000          4.400000           6.900000   \n",
       "\n",
       "       petal width (cm)  \n",
       "count        150.000000  \n",
       "mean           1.199333  \n",
       "std            0.762238  \n",
       "min            0.100000  \n",
       "25%            0.300000  \n",
       "50%            1.300000  \n",
       "75%            1.800000  \n",
       "max            2.500000  "
      ]
     },
     "execution_count": 2,
     "metadata": {},
     "output_type": "execute_result"
    }
   ],
   "source": [
    "df.describe()"
   ]
  },
  {
   "cell_type": "code",
   "execution_count": 3,
   "metadata": {},
   "outputs": [
    {
     "name": "stdout",
     "output_type": "stream",
     "text": [
      "<class 'pandas.core.frame.DataFrame'>\n",
      "RangeIndex: 150 entries, 0 to 149\n",
      "Data columns (total 6 columns):\n",
      " #   Column             Non-Null Count  Dtype  \n",
      "---  ------             --------------  -----  \n",
      " 0   iris_id            150 non-null    float64\n",
      " 1   sepal length (cm)  150 non-null    float64\n",
      " 2   sepal width (cm)   150 non-null    float64\n",
      " 3   petal length (cm)  150 non-null    float64\n",
      " 4   petal width (cm)   150 non-null    float64\n",
      " 5   species            150 non-null    object \n",
      "dtypes: float64(5), object(1)\n",
      "memory usage: 7.2+ KB\n"
     ]
    }
   ],
   "source": [
    "df.info()"
   ]
  },
  {
   "cell_type": "markdown",
   "metadata": {},
   "source": [
    "### Checking the Class Distribution"
   ]
  },
  {
   "cell_type": "code",
   "execution_count": 4,
   "metadata": {},
   "outputs": [
    {
     "data": {
      "image/png": "[encoded data removed]",
      "text/plain": [
       "<Figure size 640x480 with 1 Axes>"
      ]
     },
     "metadata": {},
     "output_type": "display_data"
    }
   ],
   "source": [
    "ax = df.groupby(df['species'])['species'].count().plot(kind='bar')\n",
    "x_offset = -0.05\n",
    "y_offset = 0\n",
    "for p in ax.patches:\n",
    "    b = p.get_bbox()\n",
    "    val = \"{}\".format(int(b.y1 + b.y0))\n",
    "    ax.annotate(val, ((b.x0 + b.x1)/2 + x_offset, b.y1 + y_offset))"
   ]
  },
  {
   "cell_type": "markdown",
   "metadata": {},
   "source": [
    "### Correlation Matrix"
   ]
  },
  {
   "cell_type": "code",
   "execution_count": null,
   "metadata": {},
   "outputs": [],
   "source": [
    "corr = df.corr()\n",
    "\n",
    "f, ax = plt.subplots(figsize=(15, 8))\n",
    "sns.heatmap(corr, annot=True, fmt=\"f\",\n",
    "            xticklabels=corr.columns.values,\n",
    "            yticklabels=corr.columns.values,\n",
    "            ax=ax)"
   ]
  },
  {
   "cell_type": "markdown",
   "metadata": {},
   "source": [
    "### Pairplots & Histograms"
   ]
  },
  {
   "cell_type": "code",
   "execution_count": null,
   "metadata": {},
   "outputs": [],
   "source": [
    "sns.pairplot(df.drop(['iris_id'], axis=1), hue='species', height=2.5, diag_kind=\"kde\")"
   ]
  },
  {
   "cell_type": "markdown",
   "metadata": {},
   "source": [
    "### Now with linear regression"
   ]
  },
  {
   "cell_type": "code",
   "execution_count": null,
   "metadata": {},
   "outputs": [],
   "source": [
    "sns.pairplot(df.drop(['iris_id'], axis=1), kind=\"reg\", hue='species', height=2.5,diag_kind=\"kde\")"
   ]
  },
  {
   "cell_type": "markdown",
   "metadata": {},
   "source": [
    "### Fit a plot a kernel density estimate.\n",
    "We can see in this dimension an overlaping between **versicolor** and **virginica**. This is a better representation of what we identified above."
   ]
  },
  {
   "cell_type": "code",
   "execution_count": null,
   "metadata": {},
   "outputs": [],
   "source": [
    "tmp_df = df[(df.iris_id==0.0)]\n",
    "sns.kdeplot(tmp_df['petal width (cm)'], tmp_df['petal length (cm)'], \n",
    "            bw='silverman', cmap=\"Blues\", shade=False, shade_lowest=False)\n",
    "\n",
    "tmp_df = df[(df.iris_id==1.0)]\n",
    "sns.kdeplot(tmp_df['petal width (cm)'], tmp_df['petal length (cm)'], \n",
    "            bw='silverman', cmap=\"Greens\", shade=False, shade_lowest=False)\n",
    "\n",
    "tmp_df = df[(df.iris_id==2.0)]\n",
    "sns.kdeplot(tmp_df['petal width (cm)'], tmp_df['petal length (cm)'], \n",
    "            bw='silverman', cmap=\"Reds\", shade=False, shade_lowest=False)\n",
    "\n",
    "plt.xlabel('species')"
   ]
  },
  {
   "cell_type": "markdown",
   "metadata": {},
   "source": [
    "Ok. Petal length and petal width have the highest linear correlation with our label. Also, sepal width seems to be useless, considering the linear correlation with our label.\n",
    "\n",
    "Since versicolor and virginica cannot be split linearly, we need a more versatile algorithm to create a better classifier. In this case, we'll use XGBoost, a tree ensemble that can give us a good model for predicting the flower."
   ]
  },
  {
   "cell_type": "markdown",
   "metadata": {},
   "source": [
    "## Train an XGBoost Model\n",
    "\n",
    "First, let's split the dataset into training and test."
   ]
  },
  {
   "cell_type": "code",
   "execution_count": 5,
   "metadata": {},
   "outputs": [],
   "source": [
    "from sklearn.model_selection import train_test_split\n",
    "\n",
    "X_train, X_test, y_train, y_test = train_test_split(\n",
    "    X, y, test_size=0.33, random_state=42, stratify=y)\n",
    "yX_train = np.column_stack((y_train, X_train))\n",
    "yX_test = np.column_stack((y_test, X_test))\n",
    "np.savetxt(\"iris_train.csv\", yX_train, delimiter=\",\", fmt='%0.3f')\n",
    "np.savetxt(\"iris_test.csv\", yX_test, delimiter=\",\", fmt='%0.3f')"
   ]
  },
  {
   "cell_type": "markdown",
   "metadata": {},
   "source": [
    "We will initialize the builtin algorithm XGBoost."
   ]
  },
  {
   "cell_type": "code",
   "execution_count": 6,
   "metadata": {},
   "outputs": [],
   "source": [
    "import sagemaker\n",
    "import boto3\n",
    "\n",
    "from sagemaker import get_execution_role\n",
    "from sklearn.model_selection import train_test_split\n",
    "from sagemaker.debugger import CollectionConfig, DebuggerHookConfig, Rule, rule_configs\n",
    "\n",
    "\n",
    "\n",
    "role = get_execution_role()\n",
    "\n",
    "prefix='mlops/iris'\n",
    "# Retrieve the default bucket\n",
    "sagemaker_session = sagemaker.Session()\n",
    "bucket = sagemaker_session.default_bucket()\n",
    "assert(sagemaker.__version__ >= \"2.0\")"
   ]
  },
  {
   "cell_type": "markdown",
   "metadata": {},
   "source": [
    "Now we upload the dataset and train the model."
   ]
  },
  {
   "cell_type": "code",
   "execution_count": 7,
   "metadata": {},
   "outputs": [],
   "source": [
    "# Upload the dataset to an S3 bucket\n",
    "input_train = sagemaker_session.upload_data(path='iris_train.csv', key_prefix='%s/data' % prefix)\n",
    "input_test = sagemaker_session.upload_data(path='iris_test.csv', key_prefix='%s/data' % prefix)"
   ]
  },
  {
   "cell_type": "code",
   "execution_count": 8,
   "metadata": {},
   "outputs": [],
   "source": [
    "train_data = sagemaker.inputs.TrainingInput(s3_data=input_train,content_type=\"csv\")\n",
    "test_data = sagemaker.inputs.TrainingInput(s3_data=input_test,content_type=\"csv\")"
   ]
  },
  {
   "cell_type": "code",
   "execution_count": 9,
   "metadata": {},
   "outputs": [],
   "source": [
    "# get the URI for new container\n",
    "#container_uri = sagemaker.image_uris.retrieve('xgboost', boto3.Session().region_name, version='1.0-1')\n",
    "container_uri = sagemaker.image_uris.retrieve('xgboost', boto3.Session().region_name, version='1.2-1')"
   ]
  },
  {
   "cell_type": "code",
   "execution_count": 10,
   "metadata": {},
   "outputs": [
    {
     "data": {
      "text/plain": [
       "'2.129.0'"
      ]
     },
     "execution_count": 10,
     "metadata": {},
     "output_type": "execute_result"
    }
   ],
   "source": [
    "sagemaker.__version__"
   ]
  },
  {
   "cell_type": "code",
   "execution_count": null,
   "metadata": {},
   "outputs": [],
   "source": [
    "! pip install -qU sagemaker"
   ]
  },
  {
   "cell_type": "markdown",
   "metadata": {},
   "source": [
    "\n",
    "<p style=\"font-family: Arial; font-size:1.4em;color:blue;\"> **Exercise 1** </p>\n",
    "<br>\n",
    "\n",
    "<div class=\"alert-info\">\n",
    "Now let's create a basic Sagemaker estimator below. \n",
    "\n",
    "(Hint: follow the **step 2** of [**Sagemaekr doc**](https://docs.aws.amazon.com/sagemaker/latest/dg/ex1-train-model.html) and fill the commented parameters\n",
    "`image_uri`, `role`, `sagemaker_session` as defined above.)\n",
    "\n",
    "</div>"
   ]
  },
  {
   "cell_type": "code",
   "execution_count": 11,
   "metadata": {},
   "outputs": [],
   "source": [
    "rules=[\n",
    "    Rule.sagemaker(rule_configs.create_xgboost_report())\n",
    "]\n",
    "\n",
    "xgb = sagemaker.estimator.Estimator(\n",
    "    image_uri = container_uri,\n",
    "    role = role, \n",
    "    instance_count=1, \n",
    "    instance_type='ml.m5.2xlarge',\n",
    "    output_path='s3://{}/{}/output'.format(bucket, prefix),\n",
    "    sagemaker_session= sagemaker_session,\n",
    "    rules=rules\n",
    "    )"
   ]
  },
  {
   "cell_type": "markdown",
   "metadata": {},
   "source": [
    "Then set the hyperparameters."
   ]
  },
  {
   "cell_type": "code",
   "execution_count": 12,
   "metadata": {},
   "outputs": [],
   "source": [
    "xgb.set_hyperparameters(eta=0.1,\n",
    "                        max_depth=10,\n",
    "                        gamma=4,\n",
    "                        num_class=len(np.unique(y)),\n",
    "                        alpha=10,\n",
    "                        min_child_weight=6,\n",
    "                        #silent=0,\n",
    "                        objective='multi:softmax',\n",
    "                        num_round=30)"
   ]
  },
  {
   "cell_type": "code",
   "execution_count": 13,
   "metadata": {},
   "outputs": [
    {
     "name": "stderr",
     "output_type": "stream",
     "text": [
      "INFO:sagemaker:Creating training-job with name: sagemaker-xgboost-2023-01-25-14-24-18-378\n"
     ]
    },
    {
     "name": "stdout",
     "output_type": "stream",
     "text": [
      "2023-01-25 14:24:18 Starting - Starting the training job...\n",
      "2023-01-25 14:24:42 Starting - Preparing the instances for trainingCreateXgboostReport: InProgress\n",
      "......\n",
      "2023-01-25 14:25:42 Downloading - Downloading input data.....\u001b[34m[2023-01-25 14:26:32.697 ip-10-0-65-243.us-west-2.compute.internal:7 INFO utils.py:27] RULE_JOB_STOP_SIGNAL_FILENAME: None\u001b[0m\n",
      "\u001b[34mINFO:sagemaker-containers:Imported framework sagemaker_xgboost_container.training\u001b[0m\n",
      "\u001b[34mINFO:sagemaker-containers:Failed to parse hyperparameter objective value multi:softmax to Json.\u001b[0m\n",
      "\u001b[34mReturning the value itself\u001b[0m\n",
      "\u001b[34mINFO:sagemaker-containers:No GPUs detected (normal if no gpus installed)\u001b[0m\n",
      "\u001b[34mINFO:sagemaker_xgboost_container.training:Running XGBoost Sagemaker in algorithm mode\u001b[0m\n",
      "\u001b[34mINFO:root:Determined delimiter of CSV input is ','\u001b[0m\n",
      "\u001b[34mINFO:root:Determined delimiter of CSV input is ','\u001b[0m\n",
      "\u001b[34mINFO:root:Determined delimiter of CSV input is ','\u001b[0m\n",
      "\u001b[34mINFO:root:Determined delimiter of CSV input is ','\u001b[0m\n",
      "\u001b[34mINFO:root:Single node training.\u001b[0m\n",
      "\u001b[34m[2023-01-25 14:26:32.769 ip-10-0-65-243.us-west-2.compute.internal:7 INFO json_config.py:91] Creating hook from json_config at /opt/ml/input/config/debughookconfig.json.\u001b[0m\n",
      "\u001b[34m[2023-01-25 14:26:32.769 ip-10-0-65-243.us-west-2.compute.internal:7 INFO hook.py:199] tensorboard_dir has not been set for the hook. SMDebug will not be exporting tensorboard summaries.\u001b[0m\n",
      "\u001b[34m[2023-01-25 14:26:32.769 ip-10-0-65-243.us-west-2.compute.internal:7 INFO profiler_config_parser.py:102] User has disabled profiler.\u001b[0m\n",
      "\u001b[34m[2023-01-25 14:26:32.770 ip-10-0-65-243.us-west-2.compute.internal:7 INFO hook.py:253] Saving to /opt/ml/output/tensors\u001b[0m\n",
      "\u001b[34m[2023-01-25 14:26:32.770 ip-10-0-65-243.us-west-2.compute.internal:7 INFO state_store.py:77] The checkpoint config file /opt/ml/input/config/checkpointconfig.json does not exist.\u001b[0m\n",
      "\u001b[34mINFO:root:Debug hook created from config\u001b[0m\n",
      "\u001b[34mINFO:root:Train matrix has 100 rows and 4 columns\u001b[0m\n",
      "\u001b[34mINFO:root:Validation matrix has 50 rows\u001b[0m\n",
      "\u001b[34m[0]#011train-merror:0.03000#011validation-merror:0.10000\u001b[0m\n",
      "\u001b[34m[2023-01-25 14:26:32.863 ip-10-0-65-243.us-west-2.compute.internal:7 INFO hook.py:413] Monitoring the collections: hyperparameters, predictions, labels, metrics, feature_importance\u001b[0m\n",
      "\u001b[34m[2023-01-25 14:26:32.865 ip-10-0-65-243.us-west-2.compute.internal:7 INFO hook.py:476] Hook is writing from the hook with pid: 7\u001b[0m\n",
      "\u001b[34m[1]#011train-merror:0.03000#011validation-merror:0.10000\u001b[0m\n",
      "\u001b[34m[2]#011train-merror:0.03000#011validation-merror:0.10000\u001b[0m\n",
      "\u001b[34m[3]#011train-merror:0.03000#011validation-merror:0.10000\u001b[0m\n",
      "\u001b[34m[4]#011train-merror:0.03000#011validation-merror:0.10000\u001b[0m\n",
      "\u001b[34m[5]#011train-merror:0.03000#011validation-merror:0.10000\u001b[0m\n",
      "\u001b[34m[6]#011train-merror:0.03000#011validation-merror:0.10000\u001b[0m\n",
      "\u001b[34m[7]#011train-merror:0.03000#011validation-merror:0.10000\u001b[0m\n",
      "\u001b[34m[8]#011train-merror:0.03000#011validation-merror:0.10000\u001b[0m\n",
      "\u001b[34m[9]#011train-merror:0.03000#011validation-merror:0.10000\u001b[0m\n",
      "\u001b[34m[10]#011train-merror:0.03000#011validation-merror:0.10000\u001b[0m\n",
      "\u001b[34m[11]#011train-merror:0.03000#011validation-merror:0.10000\u001b[0m\n",
      "\u001b[34m[12]#011train-merror:0.03000#011validation-merror:0.10000\u001b[0m\n",
      "\u001b[34m[13]#011train-merror:0.03000#011validation-merror:0.10000\u001b[0m\n",
      "\u001b[34m[14]#011train-merror:0.03000#011validation-merror:0.10000\u001b[0m\n",
      "\u001b[34m[15]#011train-merror:0.03000#011validation-merror:0.10000\u001b[0m\n",
      "\u001b[34m[16]#011train-merror:0.03000#011validation-merror:0.10000\u001b[0m\n",
      "\u001b[34m[17]#011train-merror:0.03000#011validation-merror:0.10000\u001b[0m\n",
      "\u001b[34m[18]#011train-merror:0.03000#011validation-merror:0.10000\u001b[0m\n",
      "\u001b[34m[19]#011train-merror:0.03000#011validation-merror:0.10000\u001b[0m\n",
      "\u001b[34m[20]#011train-merror:0.03000#011validation-merror:0.10000\u001b[0m\n",
      "\u001b[34m[21]#011train-merror:0.03000#011validation-merror:0.10000\u001b[0m\n",
      "\u001b[34m[22]#011train-merror:0.03000#011validation-merror:0.10000\u001b[0m\n",
      "\u001b[34m[23]#011train-merror:0.03000#011validation-merror:0.10000\u001b[0m\n",
      "\u001b[34m[24]#011train-merror:0.03000#011validation-merror:0.10000\u001b[0m\n",
      "\u001b[34m[25]#011train-merror:0.03000#011validation-merror:0.10000\u001b[0m\n",
      "\u001b[34m[26]#011train-merror:0.03000#011validation-merror:0.10000\u001b[0m\n",
      "\u001b[34m[27]#011train-merror:0.03000#011validation-merror:0.10000\u001b[0m\n",
      "\u001b[34m[28]#011train-merror:0.03000#011validation-merror:0.10000\u001b[0m\n",
      "\u001b[34m[29]#011train-merror:0.03000#011validation-merror:0.10000\u001b[0m\n",
      "\n",
      "2023-01-25 14:26:42 Training - Training image download completed. Training in progress.\n",
      "2023-01-25 14:26:42 Uploading - Uploading generated training model\n",
      "2023-01-25 14:27:03 Completed - Training job completed\n",
      "Training seconds: 87\n",
      "Billable seconds: 87\n",
      "CPU times: user 399 ms, sys: 21.2 ms, total: 420 ms\n",
      "Wall time: 3min 15s\n"
     ]
    }
   ],
   "source": [
    "%%time\n",
    "\n",
    "xgb.fit(\n",
    "     {'train': train_data, \n",
    "      'validation': test_data, }\n",
    ")"
   ]
  },
  {
   "cell_type": "code",
   "execution_count": 14,
   "metadata": {},
   "outputs": [
    {
     "data": {
      "text/plain": [
       "'s3://sagemaker-us-west-2-735989226901/mlops/iris/output'"
      ]
     },
     "execution_count": 14,
     "metadata": {},
     "output_type": "execute_result"
    }
   ],
   "source": [
    "xgb.output_path"
   ]
  },
  {
   "cell_type": "markdown",
   "metadata": {},
   "source": [
    "## Using SageMaker.Debugger\n",
    "Based on code from https://docs.aws.amazon.com/sagemaker/latest/dg/ex1-train-model.html"
   ]
  },
  {
   "cell_type": "code",
   "execution_count": 18,
   "metadata": {},
   "outputs": [],
   "source": [
    "rule_output_path = xgb.output_path + \"/\" + xgb.latest_training_job.job_name + \"/rule-output\""
   ]
  },
  {
   "cell_type": "code",
   "execution_count": 20,
   "metadata": {},
   "outputs": [
    {
     "data": {
      "text/plain": [
       "'s3://sagemaker-us-west-2-735989226901/mlops/iris/output/sagemaker-xgboost-2023-01-25-14-24-18-378/rule-output'"
      ]
     },
     "execution_count": 20,
     "metadata": {},
     "output_type": "execute_result"
    }
   ],
   "source": [
    "rule_output_path"
   ]
  },
  {
   "cell_type": "code",
   "execution_count": 23,
   "metadata": {},
   "outputs": [
    {
     "name": "stdout",
     "output_type": "stream",
     "text": [
      "2023-01-25 14:33:28        340 mlops/iris/output/sagemaker-xgboost-2023-01-25-14-24-18-378/rule-output/CreateXgboostReport/xgboost-reports/ConfusionMatrix.json\n",
      "2023-01-25 14:33:28        769 mlops/iris/output/sagemaker-xgboost-2023-01-25-14-24-18-378/rule-output/CreateXgboostReport/xgboost-reports/EvaluationMetrics.json\n",
      "2023-01-25 14:33:28        515 mlops/iris/output/sagemaker-xgboost-2023-01-25-14-24-18-378/rule-output/CreateXgboostReport/xgboost-reports/FeatureImportance.json\n",
      "2023-01-25 14:33:28        383 mlops/iris/output/sagemaker-xgboost-2023-01-25-14-24-18-378/rule-output/CreateXgboostReport/xgboost-reports/IterativeClassAccuracy.json\n",
      "2023-01-25 14:33:28        244 mlops/iris/output/sagemaker-xgboost-2023-01-25-14-24-18-378/rule-output/CreateXgboostReport/xgboost-reports/LabelsDistribution.json\n",
      "2023-01-25 14:33:28       1076 mlops/iris/output/sagemaker-xgboost-2023-01-25-14-24-18-378/rule-output/CreateXgboostReport/xgboost-reports/LossData.json\n",
      "2023-01-25 14:33:28       1554 mlops/iris/output/sagemaker-xgboost-2023-01-25-14-24-18-378/rule-output/CreateXgboostReport/xgboost-reports/ResidualDistribution.json\n",
      "2023-01-25 14:33:27     365285 mlops/iris/output/sagemaker-xgboost-2023-01-25-14-24-18-378/rule-output/CreateXgboostReport/xgboost_report.html\n",
      "2023-01-25 14:33:26     163935 mlops/iris/output/sagemaker-xgboost-2023-01-25-14-24-18-378/rule-output/CreateXgboostReport/xgboost_report.ipynb\n"
     ]
    }
   ],
   "source": [
    "! aws s3 ls {rule_output_path} --recursive"
   ]
  },
  {
   "cell_type": "code",
   "execution_count": 24,
   "metadata": {},
   "outputs": [
    {
     "name": "stdout",
     "output_type": "stream",
     "text": [
      "download: s3://sagemaker-us-west-2-735989226901/mlops/iris/output/sagemaker-xgboost-2023-01-25-14-24-18-378/rule-output/CreateXgboostReport/xgboost-reports/EvaluationMetrics.json to CreateXgboostReport/xgboost-reports/EvaluationMetrics.json\n",
      "download: s3://sagemaker-us-west-2-735989226901/mlops/iris/output/sagemaker-xgboost-2023-01-25-14-24-18-378/rule-output/CreateXgboostReport/xgboost-reports/FeatureImportance.json to CreateXgboostReport/xgboost-reports/FeatureImportance.json\n",
      "download: s3://sagemaker-us-west-2-735989226901/mlops/iris/output/sagemaker-xgboost-2023-01-25-14-24-18-378/rule-output/CreateXgboostReport/xgboost-reports/IterativeClassAccuracy.json to CreateXgboostReport/xgboost-reports/IterativeClassAccuracy.json\n",
      "download: s3://sagemaker-us-west-2-735989226901/mlops/iris/output/sagemaker-xgboost-2023-01-25-14-24-18-378/rule-output/CreateXgboostReport/xgboost-reports/LabelsDistribution.json to CreateXgboostReport/xgboost-reports/LabelsDistribution.json\n",
      "download: s3://sagemaker-us-west-2-735989226901/mlops/iris/output/sagemaker-xgboost-2023-01-25-14-24-18-378/rule-output/CreateXgboostReport/xgboost-reports/LossData.json to CreateXgboostReport/xgboost-reports/LossData.json\n",
      "download: s3://sagemaker-us-west-2-735989226901/mlops/iris/output/sagemaker-xgboost-2023-01-25-14-24-18-378/rule-output/CreateXgboostReport/xgboost-reports/ConfusionMatrix.json to CreateXgboostReport/xgboost-reports/ConfusionMatrix.json\n",
      "download: s3://sagemaker-us-west-2-735989226901/mlops/iris/output/sagemaker-xgboost-2023-01-25-14-24-18-378/rule-output/CreateXgboostReport/xgboost-reports/ResidualDistribution.json to CreateXgboostReport/xgboost-reports/ResidualDistribution.json\n",
      "download: s3://sagemaker-us-west-2-735989226901/mlops/iris/output/sagemaker-xgboost-2023-01-25-14-24-18-378/rule-output/CreateXgboostReport/xgboost_report.ipynb to CreateXgboostReport/xgboost_report.ipynb\n",
      "download: s3://sagemaker-us-west-2-735989226901/mlops/iris/output/sagemaker-xgboost-2023-01-25-14-24-18-378/rule-output/CreateXgboostReport/xgboost_report.html to CreateXgboostReport/xgboost_report.html\n"
     ]
    }
   ],
   "source": [
    "! aws s3 cp {rule_output_path} ./ --recursive"
   ]
  },
  {
   "cell_type": "code",
   "execution_count": 25,
   "metadata": {},
   "outputs": [
    {
     "name": "stdout",
     "output_type": "stream",
     "text": [
      "/home/ec2-user/SageMaker/MLU-MLOps-Lab/lab\n"
     ]
    }
   ],
   "source": [
    "! pwd"
   ]
  },
  {
   "cell_type": "code",
   "execution_count": 26,
   "metadata": {},
   "outputs": [
    {
     "data": {
      "text/plain": [
       "'Click link below to view the XGBoost Training report'"
      ]
     },
     "metadata": {},
     "output_type": "display_data"
    },
    {
     "data": {
      "text/html": [
       "<a href='CreateXgboostReport/xgboost_report.html' target='_blank'>CreateXgboostReport/xgboost_report.html</a><br>"
      ],
      "text/plain": [
       "/home/ec2-user/SageMaker/MLU-MLOps-Lab/lab/CreateXgboostReport/xgboost_report.html"
      ]
     },
     "metadata": {},
     "output_type": "display_data"
    }
   ],
   "source": [
    "from IPython.display import FileLink, FileLinks\n",
    "display(\"Click link below to view the XGBoost Training report\", FileLink(\"CreateXgboostReport/xgboost_report.html\"))"
   ]
  },
  {
   "cell_type": "markdown",
   "metadata": {},
   "source": [
    "## Deploy to the Endpoint\n",
    "\n",
    "Let's deploy the model and create an endpoint for it. The following action will:\n",
    " * get the assets from the job we just ran and then create an input in the Models Catalog\n",
    " * create a endpoint configuration (a metadata for our final endpoint)\n",
    " * create an endpoint, which is our model wrapped in a format of a WebService\n",
    " \n",
    "After that we'll be able to call our deployed endpoint for doing predictions.\n",
    "\n",
    "(Note: The follow deployment cell may run around **~10 minutes**. You can find your endpoint at [Sagemaker Endpoints](https://console.aws.amazon.com/sagemaker/home?region=us-east-1#/endpoints).)\n"
   ]
  },
  {
   "cell_type": "code",
   "execution_count": null,
   "metadata": {},
   "outputs": [],
   "source": [
    "%%time\n",
    "# Enable log capturing in the endpoint\n",
    "data_capture_configuration = sagemaker.model_monitor.data_capture_config.DataCaptureConfig(\n",
    "    enable_capture=True, \n",
    "    sampling_percentage=100, \n",
    "    destination_s3_uri='s3://{}/{}/monitoring'.format(bucket, prefix), \n",
    "    sagemaker_session=sagemaker_session\n",
    ")\n",
    "xgb_predictor = xgb.deploy(\n",
    "    initial_instance_count=1, \n",
    "    instance_type= 'ml.m5.xlarge', ## 'ml.t3.medium'\n",
    "    data_capture_config=data_capture_configuration\n",
    ")"
   ]
  },
  {
   "cell_type": "markdown",
   "metadata": {},
   "source": [
    "## Setup the Monitor\n",
    "\n",
    "Alright, now that we have deployed the endpoint, with data capturing enabled, it's time to setup the monitor.\n",
    "Let's start by configuring our predictor"
   ]
  },
  {
   "cell_type": "code",
   "execution_count": null,
   "metadata": {},
   "outputs": [],
   "source": [
    "from sagemaker.serializers import CSVSerializer\n",
    "from sklearn.metrics import f1_score\n",
    "csv_serializer = CSVSerializer()\n",
    "\n",
    "endpoint_name = xgb_predictor.endpoint_name\n",
    "model_name = boto3.client('sagemaker').describe_endpoint_config(\n",
    "    EndpointConfigName=endpoint_name)['ProductionVariants'][0]['ModelName']\n",
    "!echo $model_name > model_name.txt\n",
    "!echo $endpoint_name > endpoint_name.txt\n",
    "xgb_predictor.serializer = csv_serializer"
   ]
  },
  {
   "cell_type": "markdown",
   "metadata": {},
   "source": [
    "## Test the Endpoint\n",
    "\n",
    "Now, let's do a basic test with the deployed endpoint. We'll use a helper object called **predict**. This object is always returned from a **Deploy** call. \n",
    "\n",
    "The predictor is just for testing purposes and we'll **NOT** use it inside our real application."
   ]
  },
  {
   "cell_type": "code",
   "execution_count": null,
   "metadata": {},
   "outputs": [],
   "source": [
    "predictions_test = [ float(xgb_predictor.predict(x).decode('utf-8')) for x in X_test] "
   ]
  },
  {
   "cell_type": "markdown",
   "metadata": {},
   "source": [
    "<br>\n",
    "\n",
    "<p style=\"font-family: Arial; font-size:1.4em;color:blue;\"> **Exercise 3** </p>\n",
    "<br>\n",
    "\n",
    "<div class=\"alert-info\">\n",
    "    \n",
    "Let's test our model with sklearn built-in function [**f1_score**](https://scikit-learn.org/stable/modules/generated/sklearn.metrics.f1_score.html). Fill the two commented line below with true label (`y_test`) and predictions (`predictions_test`) as we defined above.\n",
    "\n",
    "</div>"
   ]
  },
  {
   "cell_type": "code",
   "execution_count": null,
   "metadata": {},
   "outputs": [],
   "source": [
    "score = f1_score(\n",
    "     y_true = y_test,\n",
    "     y_pred = predictions_test,\n",
    "    labels = [0.0,1.0,2.0],\n",
    "    average = 'micro')\n",
    "\n",
    "print('F1 Score(micro): %.1f' % (score * 100.0))"
   ]
  },
  {
   "cell_type": "markdown",
   "metadata": {},
   "source": [
    "## Test the API\n",
    "\n",
    "Then, let's  test the API for our trained model. Using `boto3` for getting a sagemaker runtime client and then we'll call invoke_endpoint"
   ]
  },
  {
   "cell_type": "code",
   "execution_count": null,
   "metadata": {},
   "outputs": [],
   "source": [
    "from sagemaker.serializers import CSVSerializer\n",
    "csv_serializer = CSVSerializer()\n",
    "sm = boto3.client('sagemaker-runtime')\n",
    "resp = sm.invoke_endpoint(\n",
    "    EndpointName=endpoint_name,\n",
    "    ContentType='text/csv',\n",
    "    Body=csv_serializer.serialize(X_test[0])\n",
    ")\n",
    "prediction = float(resp['Body'].read().decode('utf-8'))\n",
    "print('Predicted class: %.1f for [%s]' % (prediction, csv_serializer.serialize(X_test[0])) )"
   ]
  },
  {
   "cell_type": "markdown",
   "metadata": {},
   "source": [
    "## Cleaning up \n",
    "<br>\n",
    "\n",
    "\n",
    "<div class=\"alert-info\">\n",
    "    \n",
    "Attention! Only run the next cell if you will **NOT** continue running the next part of the lab. \n",
    "\n",
    "</div>\n",
    "\n",
    "Please feel free to optimize your model using other algorithms or AutoML ([AutoGluon](https://auto.gluon.ai/stable/index.html)). Have Fun Machine Learning!"
   ]
  },
  {
   "cell_type": "code",
   "execution_count": null,
   "metadata": {},
   "outputs": [],
   "source": [
    "# xgb_predictor.delete_endpoint()"
   ]
  },
  {
   "cell_type": "markdown",
   "metadata": {},
   "source": [
    "\n",
    "![logo](../imgs/MLU_Logo.png)\n"
   ]
  }
 ],
 "metadata": {
  "kernelspec": {
   "display_name": "conda_python3",
   "language": "python",
   "name": "conda_python3"
  },
  "language_info": {
   "codemirror_mode": {
    "name": "ipython",
    "version": 3
   },
   "file_extension": ".py",
   "mimetype": "text/x-python",
   "name": "python",
   "nbconvert_exporter": "python",
   "pygments_lexer": "ipython3",
   "version": "3.10.6"
  }
 },
 "nbformat": 4,
 "nbformat_minor": 4
}
